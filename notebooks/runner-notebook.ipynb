{
  "nbformat": 4,
  "nbformat_minor": 0,
  "metadata": {
    "colab": {
      "provenance": [],
      "gpuType": "T4"
    },
    "kernelspec": {
      "name": "python3",
      "display_name": "Python 3"
    },
    "language_info": {
      "name": "python"
    },
    "accelerator": "GPU"
  },
  "cells": [
    {
      "cell_type": "code",
      "source": [
        "%load_ext autoreload\n",
        "%autoreload 2"
      ],
      "metadata": {
        "id": "nHtH8yDFPUcQ"
      },
      "execution_count": 1,
      "outputs": []
    },
    {
      "cell_type": "code",
      "source": [
        "!pip install langchain-community -q\n",
        "!pip install duckduckgo-search -q"
      ],
      "metadata": {
        "colab": {
          "base_uri": "https://localhost:8080/"
        },
        "id": "ckudBBfNGPJT",
        "outputId": "be5807f1-433c-47bf-dc1c-d1e8bb89cf4b"
      },
      "execution_count": 2,
      "outputs": [
        {
          "output_type": "stream",
          "name": "stdout",
          "text": [
            "\u001b[?25l   \u001b[90m━━━━━━━━━━━━━━━━━━━━━━━━━━━━━━━━━━━━━━━━\u001b[0m \u001b[32m0.0/2.5 MB\u001b[0m \u001b[31m?\u001b[0m eta \u001b[36m-:--:--\u001b[0m\r\u001b[2K   \u001b[91m━━━━━━━━━━━━━━━━━━━━━━━━━━━━━━━━━━\u001b[0m\u001b[90m╺\u001b[0m\u001b[90m━━━━━\u001b[0m \u001b[32m2.1/2.5 MB\u001b[0m \u001b[31m66.3 MB/s\u001b[0m eta \u001b[36m0:00:01\u001b[0m\r\u001b[2K   \u001b[90m━━━━━━━━━━━━━━━━━━━━━━━━━━━━━━━━━━━━━━━━\u001b[0m \u001b[32m2.5/2.5 MB\u001b[0m \u001b[31m41.5 MB/s\u001b[0m eta \u001b[36m0:00:00\u001b[0m\n",
            "\u001b[?25h\u001b[?25l   \u001b[90m━━━━━━━━━━━━━━━━━━━━━━━━━━━━━━━━━━━━━━━━\u001b[0m \u001b[32m0.0/1.0 MB\u001b[0m \u001b[31m?\u001b[0m eta \u001b[36m-:--:--\u001b[0m\r\u001b[2K   \u001b[90m━━━━━━━━━━━━━━━━━━━━━━━━━━━━━━━━━━━━━━━━\u001b[0m \u001b[32m1.0/1.0 MB\u001b[0m \u001b[31m31.1 MB/s\u001b[0m eta \u001b[36m0:00:00\u001b[0m\n",
            "\u001b[2K   \u001b[90m━━━━━━━━━━━━━━━━━━━━━━━━━━━━━━━━━━━━━━━━\u001b[0m \u001b[32m410.6/410.6 kB\u001b[0m \u001b[31m19.2 MB/s\u001b[0m eta \u001b[36m0:00:00\u001b[0m\n",
            "\u001b[2K   \u001b[90m━━━━━━━━━━━━━━━━━━━━━━━━━━━━━━━━━━━━━━━━\u001b[0m \u001b[32m49.5/49.5 kB\u001b[0m \u001b[31m3.9 MB/s\u001b[0m eta \u001b[36m0:00:00\u001b[0m\n",
            "\u001b[?25h"
          ]
        }
      ]
    },
    {
      "cell_type": "code",
      "execution_count": 6,
      "metadata": {
        "id": "OPlw_AB-FMDe"
      },
      "outputs": [],
      "source": [
        "from rag import RAGSystem\n",
        "rag_test = RAGSystem()"
      ]
    },
    {
      "cell_type": "code",
      "source": [
        "rag_test.run_rag(\"Who is the best singer at the moment?\")"
      ],
      "metadata": {
        "colab": {
          "base_uri": "https://localhost:8080/"
        },
        "id": "vyr4Fqt3GIDF",
        "outputId": "a2b3d21b-75a4-4c2a-cb74-85d519d43220"
      },
      "execution_count": 7,
      "outputs": [
        {
          "output_type": "stream",
          "name": "stdout",
          "text": [
            "\n",
            "--- Question: Who is the best singer at the moment?\n",
            "Search Results:\n",
            "1. Who Is The Most Famous Singer In The World Right Now? - Ranker: While we all have our own idea of who the best singers of all time are, the most famous takes a little more into account. Sure, many of these popular musicians could also be considered the best ever or the best of their time, but talent isn't the only factor in determining the most famous singers alive right now. In determining who's number one ...\n",
            "2. The Best Pop Artists Of 2024 - Ranker: Also ranks #5 on Who Are the Best Singers Under 25 Right Now? 38. Bebe Rexha. 1,018 votes. A tough artist to pin down, singer/songwriter Bebe Rexha collaborated with artists from a broad range of styles including pop, country, and R&B, and initially earned as much success for her contributions to other people's records as she did for her own ...\n",
            "3. The 65+ Best Pop Artists Right Now, Ranked: Also ranks #5 on Who Are the Best Singers Under 25 Right Now? 40. Mitski. 400 votes. Mitski Miyawaki (born Mitsuki Laycock; September 27, 1990) is a Japanese-born American singer-songwriter. Mitski self-released her first two albums, Lush (2012) and Retired from Sad, New Career in Business (2013), while studying studio composition at Purchase ...\n",
            "4. Who is the Best Singer in the World? Top Rankings: Top Singers in the World Right Now. Here's a list of some of the best singers in the world who are topping the world singer rankings: 1. Taylor Swift. Taylor Swift's songs tell stories that many people relate to. Her ability to connect emotionally with fans keeps her among the top-ranking singers year after year.\n",
            "\n",
            "Ranked Documents (Similarity Score):\n",
            "- Score 0.9011: Top Singers in the World Right Now. Here's a list of some of the best singers in the world who are topping the world singer rankings: 1. Taylor Swift. Taylor Swift's songs tell stories that many peopl...\n",
            "- Score 0.8907: Also ranks #5 on Who Are the Best Singers Under 25 Right Now? 38. Bebe Rexha. 1,018 votes. A tough artist to pin down, singer/songwriter Bebe Rexha collaborated with artists from a broad range of styl...\n",
            "- Score 0.8670: While we all have our own idea of who the best singers of all time are, the most famous takes a little more into account. Sure, many of these popular musicians could also be considered the best ever o...\n",
            "- Score 0.8631: Also ranks #5 on Who Are the Best Singers Under 25 Right Now? 40. Mitski. 400 votes. Mitski Miyawaki (born Mitsuki Laycock; September 27, 1990) is a Japanese-born American singer-songwriter. Mitski se...\n",
            "\n",
            "Generated Answer: Based on the information provided, it's difficult to determine who the \"best singer\" is at the moment, as it's subjective and depends on personal preferences and tastes. However, Taylor Swift is indeed one of the most popular and successful singers in the world, known for her storytelling ability and emotional connection with her fans.\n",
            "\n",
            "That being said, here are some other top singers who are also gaining popularity and recognition:\n",
            "\n",
            "1. Beyoncé: Known for her powerful vocals and captivating live performances, Beyoncé is a dominant force in the music industry.\n",
            "2. Ariana Grande: With her impressive vocal range and catchy pop songs, Ariana Grande has become a household name and a top contender in the music world.\n",
            "3. Billie Eilish: This young singer-songwriter has taken the music world by storm with her unique sound and style, making her a fan favorite among many music enthusiasts.\n",
            "4. Kendrick Lamar: As a rapper and singer, Kendrick Lamar is widely regarded as one of the most talented and influential musicians of his generation.\n",
            "5. Ed Sheeran: With his soulful voice and acoustic-driven sound, Ed Sheeran is a beloved singer-songwriter who has gained a massive following worldwide.\n",
            "\n",
            "These are just a few examples of top singers who are currently making waves in the music industry. Ultimately, the \"best singer\" is a matter of personal opinion, and there are many talented singers who could be considered among the best in the world right now.\n",
            "--------------------------------------------------\n"
          ]
        }
      ]
    }
  ]
}